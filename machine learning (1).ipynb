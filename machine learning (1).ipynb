{
 "cells": [
  {
   "cell_type": "code",
   "execution_count": null,
   "id": "569fbf67-9908-4746-a279-6692d485f697",
   "metadata": {},
   "outputs": [],
   "source": [
    "Q1: Explain the following with an example:F\n",
    "C) Artificial IntelligencJ\n",
    "<) Machine Learnin,\n",
    "I) Deep Learning\n",
    "Q2: What is supervised learning? List some examples of supervised learning.\n",
    "Q3: What is unsupervised learning? List some examples of unsupervised learning.\n",
    "Q4: What is the difference between AI, ML, DL, and DS?\n",
    "Q5: What are the main differences between supervised, unsupervised, and semi-supervised learning?\n",
    "Q6: What is train, test and validation split? Explain the importance of each term.\n",
    "Q7: How can unsupervised learning be used in anomaly detection?\n",
    "Q8: List down some commonly used supervised learning algorithms and unsupervised learning\n",
    "algorithms."
   ]
  },
  {
   "cell_type": "code",
   "execution_count": null,
   "id": "fba12cbf-0ad2-4bcb-a57a-aae82ed7d1cf",
   "metadata": {},
   "outputs": [],
   "source": [
    "Q1: Explanation of AI, ML, and DL\n",
    "- Artificial Intelligence (AI): AI refers to computer systems that can simulate human intelligence—learning, reasoning, problem-solving, and decision-making.\n",
    "Example: AI-powered chatbots like me help users by answering questions and assisting with tasks.\n",
    "- Machine Learning (ML): A subset of AI, ML enables computers to learn from data and improve their performance without explicit programming.\n",
    "Example: Email spam filters that analyze incoming emails and classify them as spam or not spam.\n",
    "- Deep Learning (DL): A subset of ML that uses artificial neural networks to analyze complex patterns and large-scale data.\n",
    "Example: Facial recognition systems that identify people using deep neural networks.\n",
    "Q2: What is supervised learning? Examples\n",
    "Supervised learning is a type of ML where the model is trained on labeled data (i.e., input-output pairs).\n",
    "Examples:\n",
    "- Image classification (e.g., detecting cats vs. dogs)\n",
    "- Fraud detection in banking\n",
    "- Sentiment analysis in social media comments\n",
    "- Predicting house prices based on features like location, size, and amenities\n",
    "Q3: What is unsupervised learning? Examples\n",
    "Unsupervised learning is a type of ML where the model learns from data without explicit labels, discovering hidden patterns.\n",
    "Examples:\n",
    "- Clustering customer data for targeted marketing\n",
    "- Anomaly detection in network security\n",
    "- Topic modeling in text data analysis\n",
    "- Recommendation systems (e.g., Netflix suggesting similar movies)\n",
    "Q4: Difference between AI, ML, DL, and DS\n",
    "| Concept | Definition | \n",
    "| Artificial Intelligence (AI) | Broad field of computer science focused on creating smart systems. | \n",
    "| Machine Learning (ML) | AI subset where computers learn from data. | \n",
    "| Deep Learning (DL) | ML subset that uses deep neural networks. | \n",
    "| Data Science (DS) | Involves collecting, cleaning, analyzing, and interpreting data for insights. | \n",
    "\n",
    "\n",
    "Q5: Differences between Supervised, Unsupervised, and Semi-Supervised Learning\n",
    "- Supervised Learning: Uses labeled data; learns relationships between inputs and outputs.\n",
    "- Unsupervised Learning: Uses unlabeled data; identifies patterns/clusters.\n",
    "- Semi-Supervised Learning: Uses a mix of labeled and unlabeled data to improve learning efficiency.\n",
    "Q6: Train, Test, and Validation Split\n",
    "- Training Set: Used to train the model and learn patterns.\n",
    "- Validation Set: Used to tune hyperparameters and avoid overfitting.\n",
    "- Test Set: Used to evaluate the model’s final performance on unseen data.\n",
    "Q7: Unsupervised Learning in Anomaly Detection\n",
    "Unsupervised learning finds anomalies by identifying patterns and deviations.\n",
    "Example: Fraud detection in banking—normal transactions cluster together, but fraudulent transactions appear as anomalies.\n",
    "Q8: Common Supervised and Unsupervised Learning Algorithms\n",
    "Supervised Learning Algorithms\n",
    "- Linear Regression\n",
    "- Decision Trees\n",
    "- Random Forest\n",
    "- Support Vector Machines (SVM)\n",
    "- Neural Networks\n",
    "Unsupervised Learning Algorithms\n",
    "- K-Means Clustering\n",
    "- Hierarchical Clustering\n",
    "- Principal Component Analysis (PCA)\n",
    "- Autoencoders\n",
    "- Gaussian Mixture Models\n"
   ]
  },
  {
   "cell_type": "code",
   "execution_count": null,
   "id": "8915f234-32f7-41a4-a8d0-24c880d53ea8",
   "metadata": {},
   "outputs": [],
   "source": [
    "Ssignment 2"
   ]
  },
  {
   "cell_type": "code",
   "execution_count": null,
   "id": "cbf2893d-4191-4991-9065-947b2b89450d",
   "metadata": {},
   "outputs": [],
   "source": []
  },
  {
   "cell_type": "code",
   "execution_count": null,
   "id": "4a57d63d-1d75-4069-a9c0-f702a6b69b03",
   "metadata": {},
   "outputs": [],
   "source": []
  },
  {
   "cell_type": "code",
   "execution_count": null,
   "id": "31398e99-c52b-4dd5-b2ce-f2559a465c52",
   "metadata": {},
   "outputs": [],
   "source": []
  },
  {
   "cell_type": "code",
   "execution_count": null,
   "id": "47e31d71-ab9c-47e8-bf94-07fa5312ddbb",
   "metadata": {},
   "outputs": [],
   "source": []
  }
 ],
 "metadata": {
  "kernelspec": {
   "display_name": "Python 3 (ipykernel)",
   "language": "python",
   "name": "python3"
  },
  "language_info": {
   "codemirror_mode": {
    "name": "ipython",
    "version": 3
   },
   "file_extension": ".py",
   "mimetype": "text/x-python",
   "name": "python",
   "nbconvert_exporter": "python",
   "pygments_lexer": "ipython3",
   "version": "3.12.7"
  }
 },
 "nbformat": 4,
 "nbformat_minor": 5
}
