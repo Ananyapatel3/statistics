{
 "cells": [
  {
   "cell_type": "code",
   "execution_count": 1,
   "id": "ebffecee-d8ad-4863-a764-1b39420d86f0",
   "metadata": {},
   "outputs": [
    {
     "ename": "SyntaxError",
     "evalue": "invalid character '⋃' (U+22C3) (2306020889.py, line 13)",
     "output_type": "error",
     "traceback": [
      "\u001b[1;36m  Cell \u001b[1;32mIn[1], line 13\u001b[1;36m\u001b[0m\n\u001b[1;33m    (ii) A ⋃ B\u001b[0m\n\u001b[1;37m           ^\u001b[0m\n\u001b[1;31mSyntaxError\u001b[0m\u001b[1;31m:\u001b[0m invalid character '⋃' (U+22C3)\n"
     ]
    }
   ],
   "source": [
    "Q1. What are the three measures of central tendency?\n",
    "Q2. What is the difference between the mean, median, and mode? How are they used to measure the\n",
    "central tendency of a dataset?\n",
    "Q3. Measure the three measures of central tendency for the given height data:\n",
    "[178,177,176,177,178.2,178,175,179,180,175,178.9,176.2,177,172.5,178,176.5]\n",
    "Q4. Find the standard deviation for the given data:\n",
    "[178,177,176,177,178.2,178,175,179,180,175,178.9,176.2,177,172.5,178,176.5]\n",
    "Q5. How are measures of dispersion such as range, variance, and standard deviation used to describe\n",
    "the spread of a dataset? Provide an example.\n",
    "Q6. What is a Venn diagram?\n",
    "Q7. For the two given sets A = (2,3,4,5,6,7) & B = (0,2,6,8,10). Find:\n",
    "(i) A B\n",
    "(ii) A ⋃ B\n",
    "Q8. What do you understand about skewness in data?\n",
    "Q9. If a data is right skewed then what will be the position of median with respect to mean?\n",
    "Q10. Explain the difference between covariance and correlation. How are these measures used in\n",
    "statistical analysis?\n",
    "Q11. What is the formula for calculating the sample mean? Provide an example calculation for a\n",
    "dataset.\n",
    "Q12. For a normal distribution data what is the relationship between its measure of central tendency?\n",
    "Q13. How is covariance different from correlation?\n",
    "Q14. How do outliers affect measures of central tendency and dispersion? Provide an example."
   ]
  },
  {
   "cell_type": "code",
   "execution_count": null,
   "id": "c8e0d557-313a-4fa3-a1a7-7fb73c1c507f",
   "metadata": {},
   "outputs": [],
   "source": [
    "Q1: The three measures of central tendency are mean, median, and mode.\n",
    "Q2:\n",
    "- Mean is the arithmetic average of all values.\n",
    "- Median is the middle value when the data is arranged in ascending order.\n",
    "- Mode is the value that appears most frequently.\n",
    "These measures help determine the center of a dataset and are useful in statistical analysis.\n",
    "Q3: Given the height data:\n",
    "[178,177,176,177,178.2,178,175,179,180,175,178.9,176.2,177,172.5,178,176.5]\n",
    "- Mean ≈ 177\n",
    "- Median = 177\n",
    "- Mode = 178\n",
    "Q4: Standard deviation quantifies how spread out the values are. For the given dataset:\n",
    "Standard deviation ≈ 1.94\n",
    "Q5:\n",
    "- Range = Difference between the highest and lowest values.\n",
    "- Variance = Average of squared differences from the mean.\n",
    "- Standard deviation = Square root of variance, showing data dispersion.\n",
    "Example: If test scores are [50, 60, 70, 80, 90], the range is 40, variance gives a precise measure of variability, and standard deviation indicates the average deviation from the mean.\n",
    "Q6: A Venn diagram visually represents relationships between sets using overlapping circles.\n",
    "Q7: Given sets A = {2,3,4,5,6,7} & B = {0,2,6,8,10}:\n",
    "(i) A ∩ B (Intersection) = {2,6}\n",
    "(ii) A ∪ B (Union) = {0,2,3,4,5,6,7,8,10}\n",
    "Q8: Skewness measures asymmetry in a dataset.\n",
    "- Right-skewed (positive): Tail extends toward higher values.\n",
    "- Left-skewed (negative): Tail extends toward lower values.\n",
    "Q9: If a dataset is right-skewed, the mean > median due to extreme high values.\n",
    "Q10:\n",
    "- Covariance measures directional relationship between two variables.\n",
    "- Correlation normalizes covariance, showing strength of relationship between -1 and 1.\n",
    "Both are used in finance, economics, and predictive modeling.\n",
    "Q11: Formula for sample mean:\n",
    "[ \\bar{x} = \\frac{\\sum{x_i}}{n} ] Example: For data [5,10,15],\n",
    "Mean = (5+10+15) / 3 = 10\n",
    "Q12: In a normal distribution, mean = median = mode.\n",
    "Q13: Covariance shows directional movement between two variables, while correlation standardizes this relationship between -1 and 1.\n",
    "Q14: Outliers can significantly impact both central tendency and dispersion.\n",
    "Example: If salaries are [30K, 35K, 40K, 100K], the mean will be skewed upwards due to the 100K outlier, while the median remains stable.\n"
   ]
  },
  {
   "cell_type": "code",
   "execution_count": null,
   "id": "f85159e4-a60b-433d-abca-f599f281e2ce",
   "metadata": {},
   "outputs": [],
   "source": []
  },
  {
   "cell_type": "code",
   "execution_count": null,
   "id": "f9d78fd9-b847-45ef-9b22-e76551ffd12d",
   "metadata": {},
   "outputs": [],
   "source": []
  },
  {
   "cell_type": "code",
   "execution_count": null,
   "id": "b1e67af8-be62-414d-9c26-b442538490f7",
   "metadata": {},
   "outputs": [],
   "source": []
  },
  {
   "cell_type": "code",
   "execution_count": null,
   "id": "9829d26b-9966-4cad-b0ee-2ad0ffcaa7f6",
   "metadata": {},
   "outputs": [],
   "source": []
  },
  {
   "cell_type": "code",
   "execution_count": null,
   "id": "9e9b12c2-760b-4bc0-8307-2abfc6e5eb6a",
   "metadata": {},
   "outputs": [],
   "source": []
  },
  {
   "cell_type": "code",
   "execution_count": null,
   "id": "ff4ed2a2-cb53-4ba7-b9c1-2655885f9067",
   "metadata": {},
   "outputs": [],
   "source": []
  }
 ],
 "metadata": {
  "kernelspec": {
   "display_name": "Python 3 (ipykernel)",
   "language": "python",
   "name": "python3"
  },
  "language_info": {
   "codemirror_mode": {
    "name": "ipython",
    "version": 3
   },
   "file_extension": ".py",
   "mimetype": "text/x-python",
   "name": "python",
   "nbconvert_exporter": "python",
   "pygments_lexer": "ipython3",
   "version": "3.12.7"
  }
 },
 "nbformat": 4,
 "nbformat_minor": 5
}
